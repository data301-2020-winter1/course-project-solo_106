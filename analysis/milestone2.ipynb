{
 "cells": [
  {
   "cell_type": "code",
   "execution_count": 1,
   "metadata": {},
   "outputs": [],
   "source": [
    "import pandas as pd\n",
    "import numpy as np\n",
    "import matplotlib.pyplot as plt\n",
    "import seaborn as sns\n",
    "import os"
   ]
  },
  {
   "cell_type": "code",
   "execution_count": 2,
   "metadata": {},
   "outputs": [],
   "source": [
    "from Scripts import project_functions"
   ]
  },
  {
   "cell_type": "markdown",
   "metadata": {},
   "source": [
    "#### # Research Questions: \n",
    "\n",
    "**1. RQ 1:** Total number of unique name enteries, determined by league?\n",
    "\n",
    "**2. RQ 2:** Who are the top 10 players that topped their respective leagues on average, determined by rank percentage?\n",
    "\n",
    "**3. RQ 3:** What is the distribution of Male and Female Basketball Players determined by their Average Rank Percentage?\n",
    "\n",
    "**4. RQ 4:** What does the distribution of the top 200 player average rank and rank percentage look like for each league ?"
   ]
  },
  {
   "cell_type": "code",
   "execution_count": 3,
   "metadata": {},
   "outputs": [
    {
     "data": {
      "text/html": [
       "<div>\n",
       "<style scoped>\n",
       "    .dataframe tbody tr th:only-of-type {\n",
       "        vertical-align: middle;\n",
       "    }\n",
       "\n",
       "    .dataframe tbody tr th {\n",
       "        vertical-align: top;\n",
       "    }\n",
       "\n",
       "    .dataframe thead th {\n",
       "        text-align: right;\n",
       "    }\n",
       "</style>\n",
       "<table border=\"1\" class=\"dataframe\">\n",
       "  <thead>\n",
       "    <tr style=\"text-align: right;\">\n",
       "      <th></th>\n",
       "      <th>id</th>\n",
       "      <th>name</th>\n",
       "      <th>league</th>\n",
       "      <th>rank</th>\n",
       "      <th>rank_percentage</th>\n",
       "    </tr>\n",
       "  </thead>\n",
       "  <tbody>\n",
       "    <tr>\n",
       "      <th>0</th>\n",
       "      <td>15429</td>\n",
       "      <td>Kris Bryant</td>\n",
       "      <td>mlb</td>\n",
       "      <td>8.000000</td>\n",
       "      <td>0.591559</td>\n",
       "    </tr>\n",
       "    <tr>\n",
       "      <th>1</th>\n",
       "      <td>jamesle01</td>\n",
       "      <td>LeBron James</td>\n",
       "      <td>nba</td>\n",
       "      <td>3.928571</td>\n",
       "      <td>0.864473</td>\n",
       "    </tr>\n",
       "    <tr>\n",
       "      <th>2</th>\n",
       "      <td>ovechal01</td>\n",
       "      <td>Alex Ovechkin</td>\n",
       "      <td>nhl</td>\n",
       "      <td>9.416667</td>\n",
       "      <td>1.065752</td>\n",
       "    </tr>\n",
       "    <tr>\n",
       "      <th>3</th>\n",
       "      <td>moorema01w</td>\n",
       "      <td>Maya Moore</td>\n",
       "      <td>wnba</td>\n",
       "      <td>2.571429</td>\n",
       "      <td>1.714422</td>\n",
       "    </tr>\n",
       "    <tr>\n",
       "      <th>4</th>\n",
       "      <td>paulch01</td>\n",
       "      <td>Chris Paul</td>\n",
       "      <td>nba</td>\n",
       "      <td>8.250000</td>\n",
       "      <td>1.789673</td>\n",
       "    </tr>\n",
       "    <tr>\n",
       "      <th>...</th>\n",
       "      <td>...</td>\n",
       "      <td>...</td>\n",
       "      <td>...</td>\n",
       "      <td>...</td>\n",
       "      <td>...</td>\n",
       "    </tr>\n",
       "    <tr>\n",
       "      <th>653</th>\n",
       "      <td>phillta01w</td>\n",
       "      <td>Tari Phillips</td>\n",
       "      <td>wnba</td>\n",
       "      <td>92.333333</td>\n",
       "      <td>54.726008</td>\n",
       "    </tr>\n",
       "    <tr>\n",
       "      <th>654</th>\n",
       "      <td>quinnno01w</td>\n",
       "      <td>Noelle Quinn</td>\n",
       "      <td>wnba</td>\n",
       "      <td>89.909091</td>\n",
       "      <td>56.439181</td>\n",
       "    </tr>\n",
       "    <tr>\n",
       "      <th>655</th>\n",
       "      <td>lobore01w</td>\n",
       "      <td>Rebecca Lobo</td>\n",
       "      <td>wnba</td>\n",
       "      <td>108.500000</td>\n",
       "      <td>61.351018</td>\n",
       "    </tr>\n",
       "    <tr>\n",
       "      <th>656</th>\n",
       "      <td>castriz01w</td>\n",
       "      <td>Iziane Castro Marques</td>\n",
       "      <td>wnba</td>\n",
       "      <td>111.818182</td>\n",
       "      <td>66.827222</td>\n",
       "    </tr>\n",
       "    <tr>\n",
       "      <th>657</th>\n",
       "      <td>reidtr01w</td>\n",
       "      <td>Tracy Reid</td>\n",
       "      <td>wnba</td>\n",
       "      <td>135.000000</td>\n",
       "      <td>72.925119</td>\n",
       "    </tr>\n",
       "  </tbody>\n",
       "</table>\n",
       "<p>658 rows × 5 columns</p>\n",
       "</div>"
      ],
      "text/plain": [
       "             id                   name league        rank  rank_percentage\n",
       "0         15429            Kris Bryant    mlb    8.000000         0.591559\n",
       "1     jamesle01           LeBron James    nba    3.928571         0.864473\n",
       "2     ovechal01          Alex Ovechkin    nhl    9.416667         1.065752\n",
       "3    moorema01w             Maya Moore   wnba    2.571429         1.714422\n",
       "4      paulch01             Chris Paul    nba    8.250000         1.789673\n",
       "..          ...                    ...    ...         ...              ...\n",
       "653  phillta01w          Tari Phillips   wnba   92.333333        54.726008\n",
       "654  quinnno01w           Noelle Quinn   wnba   89.909091        56.439181\n",
       "655   lobore01w           Rebecca Lobo   wnba  108.500000        61.351018\n",
       "656  castriz01w  Iziane Castro Marques   wnba  111.818182        66.827222\n",
       "657   reidtr01w             Tracy Reid   wnba  135.000000        72.925119\n",
       "\n",
       "[658 rows x 5 columns]"
      ]
     },
     "execution_count": 3,
     "metadata": {},
     "output_type": "execute_result"
    }
   ],
   "source": [
    "df = project_functions.load_and_process('/Users/Osaze/301/course-project-solo_106/data/raw/data.csv')\n",
    "df"
   ]
  },
  {
   "cell_type": "code",
   "execution_count": 3,
   "metadata": {},
   "outputs": [
    {
     "data": {
      "text/html": [
       "<div>\n",
       "<style scoped>\n",
       "    .dataframe tbody tr th:only-of-type {\n",
       "        vertical-align: middle;\n",
       "    }\n",
       "\n",
       "    .dataframe tbody tr th {\n",
       "        vertical-align: top;\n",
       "    }\n",
       "\n",
       "    .dataframe thead th {\n",
       "        text-align: right;\n",
       "    }\n",
       "</style>\n",
       "<table border=\"1\" class=\"dataframe\">\n",
       "  <thead>\n",
       "    <tr style=\"text-align: right;\">\n",
       "      <th></th>\n",
       "      <th>id</th>\n",
       "      <th>name</th>\n",
       "      <th>league</th>\n",
       "      <th>sport_name</th>\n",
       "      <th>rank</th>\n",
       "      <th>rank_percentage</th>\n",
       "    </tr>\n",
       "  </thead>\n",
       "  <tbody>\n",
       "    <tr>\n",
       "      <th>0</th>\n",
       "      <td>15429</td>\n",
       "      <td>Kris Bryant</td>\n",
       "      <td>mlb</td>\n",
       "      <td>baseball</td>\n",
       "      <td>8.000000</td>\n",
       "      <td>0.591559</td>\n",
       "    </tr>\n",
       "    <tr>\n",
       "      <th>1</th>\n",
       "      <td>jamesle01</td>\n",
       "      <td>LeBron James</td>\n",
       "      <td>nba</td>\n",
       "      <td>basketball</td>\n",
       "      <td>3.928571</td>\n",
       "      <td>0.864473</td>\n",
       "    </tr>\n",
       "    <tr>\n",
       "      <th>2</th>\n",
       "      <td>ovechal01</td>\n",
       "      <td>Alex Ovechkin</td>\n",
       "      <td>nhl</td>\n",
       "      <td>hockey</td>\n",
       "      <td>9.416667</td>\n",
       "      <td>1.065752</td>\n",
       "    </tr>\n",
       "    <tr>\n",
       "      <th>3</th>\n",
       "      <td>moorema01w</td>\n",
       "      <td>Maya Moore</td>\n",
       "      <td>wnba</td>\n",
       "      <td>basketball</td>\n",
       "      <td>2.571429</td>\n",
       "      <td>1.714422</td>\n",
       "    </tr>\n",
       "    <tr>\n",
       "      <th>4</th>\n",
       "      <td>paulch01</td>\n",
       "      <td>Chris Paul</td>\n",
       "      <td>nba</td>\n",
       "      <td>basketball</td>\n",
       "      <td>8.250000</td>\n",
       "      <td>1.789673</td>\n",
       "    </tr>\n",
       "    <tr>\n",
       "      <th>5</th>\n",
       "      <td>matthau01</td>\n",
       "      <td>Auston Matthews</td>\n",
       "      <td>nhl</td>\n",
       "      <td>hockey</td>\n",
       "      <td>16.000000</td>\n",
       "      <td>1.801802</td>\n",
       "    </tr>\n",
       "    <tr>\n",
       "      <th>6</th>\n",
       "      <td>panarar01</td>\n",
       "      <td>Artemi Panarin</td>\n",
       "      <td>nhl</td>\n",
       "      <td>hockey</td>\n",
       "      <td>18.000000</td>\n",
       "      <td>2.016995</td>\n",
       "    </tr>\n",
       "    <tr>\n",
       "      <th>7</th>\n",
       "      <td>12916</td>\n",
       "      <td>Francisco Lindor</td>\n",
       "      <td>mlb</td>\n",
       "      <td>baseball</td>\n",
       "      <td>27.333333</td>\n",
       "      <td>2.023684</td>\n",
       "    </tr>\n",
       "    <tr>\n",
       "      <th>8</th>\n",
       "      <td>lidstni01</td>\n",
       "      <td>Nicklas Lidstrom</td>\n",
       "      <td>nhl</td>\n",
       "      <td>hockey</td>\n",
       "      <td>18.400000</td>\n",
       "      <td>2.297896</td>\n",
       "    </tr>\n",
       "    <tr>\n",
       "      <th>9</th>\n",
       "      <td>crosbsi01</td>\n",
       "      <td>Sidney Crosby</td>\n",
       "      <td>nhl</td>\n",
       "      <td>hockey</td>\n",
       "      <td>23.000000</td>\n",
       "      <td>2.599170</td>\n",
       "    </tr>\n",
       "  </tbody>\n",
       "</table>\n",
       "</div>"
      ],
      "text/plain": [
       "           id              name league  sport_name       rank  rank_percentage\n",
       "0       15429       Kris Bryant    mlb    baseball   8.000000         0.591559\n",
       "1   jamesle01      LeBron James    nba  basketball   3.928571         0.864473\n",
       "2   ovechal01     Alex Ovechkin    nhl      hockey   9.416667         1.065752\n",
       "3  moorema01w        Maya Moore   wnba  basketball   2.571429         1.714422\n",
       "4    paulch01        Chris Paul    nba  basketball   8.250000         1.789673\n",
       "5   matthau01   Auston Matthews    nhl      hockey  16.000000         1.801802\n",
       "6   panarar01    Artemi Panarin    nhl      hockey  18.000000         2.016995\n",
       "7       12916  Francisco Lindor    mlb    baseball  27.333333         2.023684\n",
       "8   lidstni01  Nicklas Lidstrom    nhl      hockey  18.400000         2.297896\n",
       "9   crosbsi01     Sidney Crosby    nhl      hockey  23.000000         2.599170"
      ]
     },
     "execution_count": 3,
     "metadata": {},
     "output_type": "execute_result"
    }
   ],
   "source": [
    "# Analysis\n",
    "\n",
    "df1 = project_functions.top_ten('/Users/Osaze/301/course-project-solo_106/data/raw/data.csv')\n",
    "df1"
   ]
  },
  {
   "cell_type": "code",
   "execution_count": 25,
   "metadata": {},
   "outputs": [
    {
     "data": {
      "text/html": [
       "<div>\n",
       "<style scoped>\n",
       "    .dataframe tbody tr th:only-of-type {\n",
       "        vertical-align: middle;\n",
       "    }\n",
       "\n",
       "    .dataframe tbody tr th {\n",
       "        vertical-align: top;\n",
       "    }\n",
       "\n",
       "    .dataframe thead th {\n",
       "        text-align: right;\n",
       "    }\n",
       "</style>\n",
       "<table border=\"1\" class=\"dataframe\">\n",
       "  <thead>\n",
       "    <tr style=\"text-align: right;\">\n",
       "      <th></th>\n",
       "      <th>id</th>\n",
       "      <th>name</th>\n",
       "      <th>league</th>\n",
       "      <th>rank</th>\n",
       "      <th>rank_percentage</th>\n",
       "    </tr>\n",
       "  </thead>\n",
       "  <tbody>\n",
       "    <tr>\n",
       "      <th>0</th>\n",
       "      <td>15429</td>\n",
       "      <td>Kris Bryant</td>\n",
       "      <td>mlb</td>\n",
       "      <td>8.000000</td>\n",
       "      <td>0.591559</td>\n",
       "    </tr>\n",
       "    <tr>\n",
       "      <th>1</th>\n",
       "      <td>12916</td>\n",
       "      <td>Francisco Lindor</td>\n",
       "      <td>mlb</td>\n",
       "      <td>27.333333</td>\n",
       "      <td>2.023684</td>\n",
       "    </tr>\n",
       "    <tr>\n",
       "      <th>2</th>\n",
       "      <td>2036</td>\n",
       "      <td>Clayton Kershaw</td>\n",
       "      <td>mlb</td>\n",
       "      <td>42.500000</td>\n",
       "      <td>3.293444</td>\n",
       "    </tr>\n",
       "    <tr>\n",
       "      <th>3</th>\n",
       "      <td>10155</td>\n",
       "      <td>Mike Trout</td>\n",
       "      <td>mlb</td>\n",
       "      <td>60.857143</td>\n",
       "      <td>4.695225</td>\n",
       "    </tr>\n",
       "    <tr>\n",
       "      <th>4</th>\n",
       "      <td>9368</td>\n",
       "      <td>Evan Longoria</td>\n",
       "      <td>mlb</td>\n",
       "      <td>62.600000</td>\n",
       "      <td>4.746540</td>\n",
       "    </tr>\n",
       "    <tr>\n",
       "      <th>5</th>\n",
       "      <td>9847</td>\n",
       "      <td>Andrew McCutchen</td>\n",
       "      <td>mlb</td>\n",
       "      <td>69.555556</td>\n",
       "      <td>5.261933</td>\n",
       "    </tr>\n",
       "    <tr>\n",
       "      <th>6</th>\n",
       "      <td>13611</td>\n",
       "      <td>Mookie Betts</td>\n",
       "      <td>mlb</td>\n",
       "      <td>71.000000</td>\n",
       "      <td>5.353889</td>\n",
       "    </tr>\n",
       "    <tr>\n",
       "      <th>7</th>\n",
       "      <td>837</td>\n",
       "      <td>Mike Mussina</td>\n",
       "      <td>mlb</td>\n",
       "      <td>62.444444</td>\n",
       "      <td>5.391312</td>\n",
       "    </tr>\n",
       "    <tr>\n",
       "      <th>8</th>\n",
       "      <td>4949</td>\n",
       "      <td>Giancarlo Stanton</td>\n",
       "      <td>mlb</td>\n",
       "      <td>75.750000</td>\n",
       "      <td>5.777593</td>\n",
       "    </tr>\n",
       "    <tr>\n",
       "      <th>9</th>\n",
       "      <td>11579</td>\n",
       "      <td>Bryce Harper</td>\n",
       "      <td>mlb</td>\n",
       "      <td>82.333333</td>\n",
       "      <td>6.218318</td>\n",
       "    </tr>\n",
       "  </tbody>\n",
       "</table>\n",
       "</div>"
      ],
      "text/plain": [
       "      id               name league       rank  rank_percentage\n",
       "0  15429        Kris Bryant    mlb   8.000000         0.591559\n",
       "1  12916   Francisco Lindor    mlb  27.333333         2.023684\n",
       "2   2036    Clayton Kershaw    mlb  42.500000         3.293444\n",
       "3  10155         Mike Trout    mlb  60.857143         4.695225\n",
       "4   9368      Evan Longoria    mlb  62.600000         4.746540\n",
       "5   9847   Andrew McCutchen    mlb  69.555556         5.261933\n",
       "6  13611       Mookie Betts    mlb  71.000000         5.353889\n",
       "7    837       Mike Mussina    mlb  62.444444         5.391312\n",
       "8   4949  Giancarlo Stanton    mlb  75.750000         5.777593\n",
       "9  11579       Bryce Harper    mlb  82.333333         6.218318"
      ]
     },
     "execution_count": 25,
     "metadata": {},
     "output_type": "execute_result"
    }
   ],
   "source": [
    "#Analysis\n",
    "\n",
    "df2 = project_functions.load_and_process_mlb('/Users/Osaze/301/course-project-solo_106/data/raw/data.csv')\n",
    "df2.head(10)"
   ]
  },
  {
   "cell_type": "code",
   "execution_count": 5,
   "metadata": {},
   "outputs": [
    {
     "data": {
      "text/html": [
       "<div>\n",
       "<style scoped>\n",
       "    .dataframe tbody tr th:only-of-type {\n",
       "        vertical-align: middle;\n",
       "    }\n",
       "\n",
       "    .dataframe tbody tr th {\n",
       "        vertical-align: top;\n",
       "    }\n",
       "\n",
       "    .dataframe thead th {\n",
       "        text-align: right;\n",
       "    }\n",
       "</style>\n",
       "<table border=\"1\" class=\"dataframe\">\n",
       "  <thead>\n",
       "    <tr style=\"text-align: right;\">\n",
       "      <th></th>\n",
       "      <th>id</th>\n",
       "      <th>name</th>\n",
       "      <th>league</th>\n",
       "      <th>rank</th>\n",
       "      <th>rank_percentage</th>\n",
       "    </tr>\n",
       "  </thead>\n",
       "  <tbody>\n",
       "    <tr>\n",
       "      <th>0</th>\n",
       "      <td>jamesle01</td>\n",
       "      <td>LeBron James</td>\n",
       "      <td>nba</td>\n",
       "      <td>3.928571</td>\n",
       "      <td>0.864473</td>\n",
       "    </tr>\n",
       "    <tr>\n",
       "      <th>1</th>\n",
       "      <td>moorema01w</td>\n",
       "      <td>Maya Moore</td>\n",
       "      <td>wnba</td>\n",
       "      <td>2.571429</td>\n",
       "      <td>1.714422</td>\n",
       "    </tr>\n",
       "    <tr>\n",
       "      <th>2</th>\n",
       "      <td>paulch01</td>\n",
       "      <td>Chris Paul</td>\n",
       "      <td>nba</td>\n",
       "      <td>8.250000</td>\n",
       "      <td>1.789673</td>\n",
       "    </tr>\n",
       "    <tr>\n",
       "      <th>3</th>\n",
       "      <td>duncati01</td>\n",
       "      <td>Tim Duncan</td>\n",
       "      <td>nba</td>\n",
       "      <td>14.421053</td>\n",
       "      <td>3.099116</td>\n",
       "    </tr>\n",
       "    <tr>\n",
       "      <th>4</th>\n",
       "      <td>townska01</td>\n",
       "      <td>Karl-Anthony Towns</td>\n",
       "      <td>nba</td>\n",
       "      <td>15.000000</td>\n",
       "      <td>3.131808</td>\n",
       "    </tr>\n",
       "    <tr>\n",
       "      <th>...</th>\n",
       "      <td>...</td>\n",
       "      <td>...</td>\n",
       "      <td>...</td>\n",
       "      <td>...</td>\n",
       "      <td>...</td>\n",
       "    </tr>\n",
       "    <tr>\n",
       "      <th>268</th>\n",
       "      <td>phillta01w</td>\n",
       "      <td>Tari Phillips</td>\n",
       "      <td>wnba</td>\n",
       "      <td>92.333333</td>\n",
       "      <td>54.726008</td>\n",
       "    </tr>\n",
       "    <tr>\n",
       "      <th>269</th>\n",
       "      <td>quinnno01w</td>\n",
       "      <td>Noelle Quinn</td>\n",
       "      <td>wnba</td>\n",
       "      <td>89.909091</td>\n",
       "      <td>56.439181</td>\n",
       "    </tr>\n",
       "    <tr>\n",
       "      <th>270</th>\n",
       "      <td>lobore01w</td>\n",
       "      <td>Rebecca Lobo</td>\n",
       "      <td>wnba</td>\n",
       "      <td>108.500000</td>\n",
       "      <td>61.351018</td>\n",
       "    </tr>\n",
       "    <tr>\n",
       "      <th>271</th>\n",
       "      <td>castriz01w</td>\n",
       "      <td>Iziane Castro Marques</td>\n",
       "      <td>wnba</td>\n",
       "      <td>111.818182</td>\n",
       "      <td>66.827222</td>\n",
       "    </tr>\n",
       "    <tr>\n",
       "      <th>272</th>\n",
       "      <td>reidtr01w</td>\n",
       "      <td>Tracy Reid</td>\n",
       "      <td>wnba</td>\n",
       "      <td>135.000000</td>\n",
       "      <td>72.925119</td>\n",
       "    </tr>\n",
       "  </tbody>\n",
       "</table>\n",
       "<p>273 rows × 5 columns</p>\n",
       "</div>"
      ],
      "text/plain": [
       "             id                   name league        rank  rank_percentage\n",
       "0     jamesle01           LeBron James    nba    3.928571         0.864473\n",
       "1    moorema01w             Maya Moore   wnba    2.571429         1.714422\n",
       "2      paulch01             Chris Paul    nba    8.250000         1.789673\n",
       "3     duncati01             Tim Duncan    nba   14.421053         3.099116\n",
       "4     townska01     Karl-Anthony Towns    nba   15.000000         3.131808\n",
       "..          ...                    ...    ...         ...              ...\n",
       "268  phillta01w          Tari Phillips   wnba   92.333333        54.726008\n",
       "269  quinnno01w           Noelle Quinn   wnba   89.909091        56.439181\n",
       "270   lobore01w           Rebecca Lobo   wnba  108.500000        61.351018\n",
       "271  castriz01w  Iziane Castro Marques   wnba  111.818182        66.827222\n",
       "272   reidtr01w             Tracy Reid   wnba  135.000000        72.925119\n",
       "\n",
       "[273 rows x 5 columns]"
      ]
     },
     "execution_count": 5,
     "metadata": {},
     "output_type": "execute_result"
    }
   ],
   "source": [
    "# Analysis\n",
    "\n",
    "df3 = project_functions.load_and_process_basketball('/Users/Osaze/301/course-project-solo_106/data/raw/data.csv')\n",
    "df3"
   ]
  },
  {
   "cell_type": "code",
   "execution_count": 9,
   "metadata": {},
   "outputs": [
    {
     "data": {
      "text/plain": [
       "[Text(0.5, 0, 'Unique Player Count'), Text(0, 0.5, 'League')]"
      ]
     },
     "execution_count": 9,
     "metadata": {},
     "output_type": "execute_result"
    },
    {
     "data": {
      "image/png": "[encoded data removed]",
      "text/plain": [
       "<Figure size 432x288 with 1 Axes>"
      ]
     },
     "metadata": {
      "needs_background": "light"
     },
     "output_type": "display_data"
    }
   ],
   "source": [
    "# RQ 1: Number of Player that Topped their respective Fields by league.\n",
    "\n",
    "plot = sns.countplot(y = 'league', data = df)\n",
    "plt.title('Number of Unique Name Enteries per League')\n",
    "plot.set(xlabel = 'Unique Player Count', ylabel = 'League')"
   ]
  },
  {
   "cell_type": "markdown",
   "metadata": {},
   "source": [
    "#### # Observations:\n",
    "\n",
    "**Observation 1:** The MLB has the most players that appear on the list of One Hit Wonders. The number exceeded 200.\n",
    "\n",
    "**Observation 2:** The NBA and WMBA had similar number of players on the list. Th number is less than 150\n",
    "\n",
    "**Observation 3:** The NHL has the more than 150 players but less than 200. "
   ]
  },
  {
   "cell_type": "code",
   "execution_count": 17,
   "metadata": {},
   "outputs": [
    {
     "data": {
      "text/plain": [
       "<AxesSubplot:title={'center':'Average Rank Percentage by League'}, xlabel='rank_percentage', ylabel='league'>"
      ]
     },
     "execution_count": 17,
     "metadata": {},
     "output_type": "execute_result"
    },
    {
     "data": {
      "image/png": "[encoded data removed]",
      "text/plain": [
       "<Figure size 432x288 with 1 Axes>"
      ]
     },
     "metadata": {
      "needs_background": "light"
     },
     "output_type": "display_data"
    }
   ],
   "source": [
    "# RQ 4: First 200 Average Rank Percentage Distribution for each League.\n",
    "C = df.head(200)\n",
    "\n",
    "plot = sns.boxplot(x = 'rank_percentage', y = 'league', data = C).set_title('Average Rank Percentage by League')\n",
    "plot = sns.stripplot(x = 'rank_percentage', y = 'league', data = C, color = '.3')\n",
    "plot"
   ]
  },
  {
   "cell_type": "markdown",
   "metadata": {},
   "source": [
    "#### # Observation:\n",
    "\n",
    "**Observation 1:** All leagues have similar avearge rank percetages for the first 200 players.\n",
    "\n",
    "**Observation 2:**\n",
    "\n",
    "**Observation 3:**"
   ]
  },
  {
   "cell_type": "code",
   "execution_count": 16,
   "metadata": {},
   "outputs": [
    {
     "data": {
      "text/plain": [
       "<AxesSubplot:title={'center':'Average Rank by League'}, xlabel='rank', ylabel='league'>"
      ]
     },
     "execution_count": 16,
     "metadata": {},
     "output_type": "execute_result"
    },
    {
     "data": {
      "image/png": "[encoded data removed]",
      "text/plain": [
       "<Figure size 432x288 with 1 Axes>"
      ]
     },
     "metadata": {
      "needs_background": "light"
     },
     "output_type": "display_data"
    }
   ],
   "source": [
    "# RQ 4: First 200 Average Rank Distribution for each League.\n",
    "A = df.head(200)\n",
    "\n",
    "plot = sns.boxplot(x = 'rank', y = 'league', data = A).set_title('Average Rank by League')\n",
    "plot = sns.stripplot(x = 'rank', y = 'league', data = A, color = '.3')\n",
    "plot"
   ]
  },
  {
   "cell_type": "markdown",
   "metadata": {},
   "source": [
    "### # Observation:\n",
    "\n",
    "**Observation 1:** The WNBA players that appear in the first 200 players have the smallest average rank percentages. Betwwen 0 and 25.\n",
    "\n",
    "**Observation 2:** The NBA players that appear in the first 200 players have the second mallest average rank percentages. Between 0 and 75.\n",
    "\n",
    "**Observation 3:** The average rank percentages fof MLB and NHL players appearing in the first 200 player are between 0 and 175, and 0 and 125 respecively"
   ]
  },
  {
   "cell_type": "code",
   "execution_count": 6,
   "metadata": {},
   "outputs": [
    {
     "data": {
      "image/png": "[encoded data removed]",
      "text/plain": [
       "<Figure size 432x288 with 1 Axes>"
      ]
     },
     "metadata": {
      "needs_background": "light"
     },
     "output_type": "display_data"
    }
   ],
   "source": [
    "# RQ 3: Distribution of Male and Female Basketball Players by Average Rank Percentage.\n",
    "\n",
    "M = df3[df3['league'] == 'nba']\n",
    "F = df3[df3['league'] == 'wnba']\n",
    "\n",
    "A = M['rank_percentage']\n",
    "B = F['rank_percentage']\n",
    "\n",
    "plot1 = sns.kdeplot(A, shade = True, label = 'nba', color = 'pink', alpha = 0.4)\n",
    "plot2 = sns.kdeplot(B, shade = True, label = 'wnba',color = 'royalblue', alpha = 0.4)"
   ]
  },
  {
   "cell_type": "markdown",
   "metadata": {},
   "source": [
    "### # Observation:\n",
    "\n",
    "**Observation 1:** The male basketball players have an average rank percentage between 0 and 40. More dense batweem 15 and 20.\n",
    "\n",
    "**Observation 2:** The female basketball player have an average rank percentage between 0 and 80. More dense between 15 and 40.\n",
    "\n",
    "**Observation 3:**"
   ]
  },
  {
   "cell_type": "code",
   "execution_count": 7,
   "metadata": {},
   "outputs": [
    {
     "data": {
      "text/plain": [
       "Text(0.5, 1.0, 'Top 10 One Hit Wonders')"
      ]
     },
     "execution_count": 7,
     "metadata": {},
     "output_type": "execute_result"
    },
    {
     "data": {
      "image/png": "[encoded data removed]",
      "text/plain": [
       "<Figure size 432x288 with 1 Axes>"
      ]
     },
     "metadata": {
      "needs_background": "light"
     },
     "output_type": "display_data"
    }
   ],
   "source": [
    "# RQ 3: Top 10 One Hit Wonders\n",
    "\n",
    "plot = sns.barplot(x = 'rank_percentage', y = 'name', data = df1, hue = 'sport_name').set_title('Top 10 One Hit Wonders')\n",
    "plot"
   ]
  },
  {
   "cell_type": "markdown",
   "metadata": {},
   "source": [
    "### # Observation:\n",
    "\n",
    "**Observation 1:** Kris Bryant and leBron James are the only players that have an average rank percentage less than 1%.\n",
    "\n",
    "**Observation 2:** The top 10 One Hit Wonders all have an avearge rank percentage less than 3%\n",
    "\n",
    "**Observation 3:** Hockey players are made the most appearances in the top 10 list. Hockey = 5, Backetball = 3, and Baseball = 2."
   ]
  }
 ],
 "metadata": {
  "kernelspec": {
   "display_name": "Python 3",
   "language": "python",
   "name": "python3"
  },
  "language_info": {
   "codemirror_mode": {
    "name": "ipython",
    "version": 3
   },
   "file_extension": ".py",
   "mimetype": "text/x-python",
   "name": "python",
   "nbconvert_exporter": "python",
   "pygments_lexer": "ipython3",
   "version": "3.8.5"
  }
 },
 "nbformat": 4,
 "nbformat_minor": 4
}
